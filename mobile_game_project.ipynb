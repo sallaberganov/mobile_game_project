{
 "cells": [
  {
   "cell_type": "markdown",
   "metadata": {},
   "source": [
    "# Проект: Мобильная игра (вариант 1)"
   ]
  },
  {
   "cell_type": "markdown",
   "metadata": {},
   "source": [
    "В данном проекте, мы будем анализировать данные мобильного приложения. Коллега из бизнес-подразделения просит у нас решить с следуюзщие задачи:\n",
    "\n",
    "1. В первую очередь, его интересует показатель retention. Напишем функцию для его подсчета.\n",
    "2. Помимо этого, в компании провели A/B тестирование наборов акционных предложений. На основе имеющихся данных определим, какой набор можно считать лучшим и на основе каких метрик стоит принять правильное решение.\n",
    "3. Предложим метрики для оценки результатов последнего прошедшего тематического события в игре."
   ]
  },
  {
   "cell_type": "markdown",
   "metadata": {},
   "source": [
    "ЗАДАЧА 1. Написать функцию для рассчета показателя retention."
   ]
  },
  {
   "cell_type": "code",
   "execution_count": 1,
   "metadata": {},
   "outputs": [],
   "source": [
    "#импортируем все необходимые библиотеки для анализа данных\n",
    "\n",
    "import pandas as pd\n",
    "import numpy as np\n",
    "import seaborn as sns\n",
    "import matplotlib.pyplot as plt\n",
    "import matplotlib.dates as mdates\n",
    "from datetime import date,timedelta\n",
    "from scipy import stats\n",
    "from scipy.stats import norm, mannwhitneyu\n",
    "from tqdm.auto import tqdm\n",
    "\n",
    "import warnings\n",
    "warnings.filterwarnings(\"ignore\")\n",
    "\n",
    "plt.style.use('ggplot')\n",
    "\n",
    "%matplotlib inline"
   ]
  },
  {
   "cell_type": "code",
   "execution_count": 2,
   "metadata": {},
   "outputs": [],
   "source": [
    "#настройка графиков\n",
    "sns.set(\n",
    "    font_scale = 1,\n",
    "    style = \"whitegrid\",\n",
    "    rc={'figure.figsize':(20,7)}\n",
    "        )"
   ]
  },
  {
   "cell_type": "code",
   "execution_count": 3,
   "metadata": {},
   "outputs": [
    {
     "data": {
      "text/html": [
       "<div>\n",
       "<style scoped>\n",
       "    .dataframe tbody tr th:only-of-type {\n",
       "        vertical-align: middle;\n",
       "    }\n",
       "\n",
       "    .dataframe tbody tr th {\n",
       "        vertical-align: top;\n",
       "    }\n",
       "\n",
       "    .dataframe thead th {\n",
       "        text-align: right;\n",
       "    }\n",
       "</style>\n",
       "<table border=\"1\" class=\"dataframe\">\n",
       "  <thead>\n",
       "    <tr style=\"text-align: right;\">\n",
       "      <th></th>\n",
       "      <th>reg_ts</th>\n",
       "      <th>uid</th>\n",
       "    </tr>\n",
       "  </thead>\n",
       "  <tbody>\n",
       "    <tr>\n",
       "      <th>0</th>\n",
       "      <td>911382223</td>\n",
       "      <td>1</td>\n",
       "    </tr>\n",
       "    <tr>\n",
       "      <th>1</th>\n",
       "      <td>932683089</td>\n",
       "      <td>2</td>\n",
       "    </tr>\n",
       "    <tr>\n",
       "      <th>2</th>\n",
       "      <td>947802447</td>\n",
       "      <td>3</td>\n",
       "    </tr>\n",
       "    <tr>\n",
       "      <th>3</th>\n",
       "      <td>959523541</td>\n",
       "      <td>4</td>\n",
       "    </tr>\n",
       "    <tr>\n",
       "      <th>4</th>\n",
       "      <td>969103313</td>\n",
       "      <td>5</td>\n",
       "    </tr>\n",
       "  </tbody>\n",
       "</table>\n",
       "</div>"
      ],
      "text/plain": [
       "      reg_ts  uid\n",
       "0  911382223    1\n",
       "1  932683089    2\n",
       "2  947802447    3\n",
       "3  959523541    4\n",
       "4  969103313    5"
      ]
     },
     "execution_count": 3,
     "metadata": {},
     "output_type": "execute_result"
    }
   ],
   "source": [
    "#1. Считываем данные из файла \"problem1-reg_data.csv\" и сохраняем в датафрейм \"reg_data\".\n",
    "reg_data = pd.read_csv('/mnt/HC_Volume_18315164/home-jupyter/jupyter-s-allaberganov/shared/problem1-reg_data.csv', sep = ';')\n",
    "reg_data.head(5)"
   ]
  },
  {
   "cell_type": "code",
   "execution_count": 4,
   "metadata": {},
   "outputs": [
    {
     "data": {
      "text/html": [
       "<div>\n",
       "<style scoped>\n",
       "    .dataframe tbody tr th:only-of-type {\n",
       "        vertical-align: middle;\n",
       "    }\n",
       "\n",
       "    .dataframe tbody tr th {\n",
       "        vertical-align: top;\n",
       "    }\n",
       "\n",
       "    .dataframe thead th {\n",
       "        text-align: right;\n",
       "    }\n",
       "</style>\n",
       "<table border=\"1\" class=\"dataframe\">\n",
       "  <thead>\n",
       "    <tr style=\"text-align: right;\">\n",
       "      <th></th>\n",
       "      <th>auth_ts</th>\n",
       "      <th>uid</th>\n",
       "    </tr>\n",
       "  </thead>\n",
       "  <tbody>\n",
       "    <tr>\n",
       "      <th>0</th>\n",
       "      <td>911382223</td>\n",
       "      <td>1</td>\n",
       "    </tr>\n",
       "    <tr>\n",
       "      <th>1</th>\n",
       "      <td>932683089</td>\n",
       "      <td>2</td>\n",
       "    </tr>\n",
       "    <tr>\n",
       "      <th>2</th>\n",
       "      <td>932921206</td>\n",
       "      <td>2</td>\n",
       "    </tr>\n",
       "    <tr>\n",
       "      <th>3</th>\n",
       "      <td>933393015</td>\n",
       "      <td>2</td>\n",
       "    </tr>\n",
       "    <tr>\n",
       "      <th>4</th>\n",
       "      <td>933875379</td>\n",
       "      <td>2</td>\n",
       "    </tr>\n",
       "  </tbody>\n",
       "</table>\n",
       "</div>"
      ],
      "text/plain": [
       "     auth_ts  uid\n",
       "0  911382223    1\n",
       "1  932683089    2\n",
       "2  932921206    2\n",
       "3  933393015    2\n",
       "4  933875379    2"
      ]
     },
     "execution_count": 4,
     "metadata": {},
     "output_type": "execute_result"
    }
   ],
   "source": [
    "#2. Считываем данные из файла \"problem1-auth_data.csv\" и сохраняем в датафрейм \"auth_data\".\n",
    "auth_data = pd.read_csv('/mnt/HC_Volume_18315164/home-jupyter/jupyter-s-allaberganov/shared/problem1-auth_data.csv', sep = ';')\n",
    "auth_data.head(5)"
   ]
  },
  {
   "cell_type": "markdown",
   "metadata": {},
   "source": [
    "Полученные датафреймы состоят из двух столбцов. Мы заметили, что первый столбец в датафреймах указывают на дату, но они представлены в unix-формате, который является не читабельным и не подходит для дальнейшего анализа. Поэтому, далее мы переводим даты в нужный формат, посмотрим на тип данных, посчитаем количество уникальных значений в таблице \"uid\" для каждого датафрейма для того, чтобы сравнить количество игроков."
   ]
  },
  {
   "cell_type": "code",
   "execution_count": 5,
   "metadata": {},
   "outputs": [],
   "source": [
    "#3. Переводим формат \"unix\" на формат \"datetime\"\n",
    "reg_data['reg_ts'] = pd.to_datetime(reg_data['reg_ts'], unit = 's').dt.strftime('%Y-%m-%d')\n",
    "reg_data['reg_ts'] = pd.to_datetime(reg_data['reg_ts'], format = '%Y-%m-%d')"
   ]
  },
  {
   "cell_type": "code",
   "execution_count": 6,
   "metadata": {},
   "outputs": [
    {
     "data": {
      "text/html": [
       "<div>\n",
       "<style scoped>\n",
       "    .dataframe tbody tr th:only-of-type {\n",
       "        vertical-align: middle;\n",
       "    }\n",
       "\n",
       "    .dataframe tbody tr th {\n",
       "        vertical-align: top;\n",
       "    }\n",
       "\n",
       "    .dataframe thead th {\n",
       "        text-align: right;\n",
       "    }\n",
       "</style>\n",
       "<table border=\"1\" class=\"dataframe\">\n",
       "  <thead>\n",
       "    <tr style=\"text-align: right;\">\n",
       "      <th></th>\n",
       "      <th>reg_ts</th>\n",
       "      <th>uid</th>\n",
       "    </tr>\n",
       "  </thead>\n",
       "  <tbody>\n",
       "    <tr>\n",
       "      <th>0</th>\n",
       "      <td>1998-11-18</td>\n",
       "      <td>1</td>\n",
       "    </tr>\n",
       "    <tr>\n",
       "      <th>1</th>\n",
       "      <td>1999-07-22</td>\n",
       "      <td>2</td>\n",
       "    </tr>\n",
       "    <tr>\n",
       "      <th>2</th>\n",
       "      <td>2000-01-13</td>\n",
       "      <td>3</td>\n",
       "    </tr>\n",
       "    <tr>\n",
       "      <th>3</th>\n",
       "      <td>2000-05-28</td>\n",
       "      <td>4</td>\n",
       "    </tr>\n",
       "    <tr>\n",
       "      <th>4</th>\n",
       "      <td>2000-09-16</td>\n",
       "      <td>5</td>\n",
       "    </tr>\n",
       "  </tbody>\n",
       "</table>\n",
       "</div>"
      ],
      "text/plain": [
       "      reg_ts  uid\n",
       "0 1998-11-18    1\n",
       "1 1999-07-22    2\n",
       "2 2000-01-13    3\n",
       "3 2000-05-28    4\n",
       "4 2000-09-16    5"
      ]
     },
     "execution_count": 6,
     "metadata": {},
     "output_type": "execute_result"
    }
   ],
   "source": [
    "#4. Смотрим на полученный результат\n",
    "reg_data.head(5)"
   ]
  },
  {
   "cell_type": "code",
   "execution_count": 7,
   "metadata": {},
   "outputs": [
    {
     "name": "stdout",
     "output_type": "stream",
     "text": [
      "<class 'pandas.core.frame.DataFrame'>\n",
      "RangeIndex: 1000000 entries, 0 to 999999\n",
      "Data columns (total 2 columns):\n",
      " #   Column  Non-Null Count    Dtype         \n",
      "---  ------  --------------    -----         \n",
      " 0   reg_ts  1000000 non-null  datetime64[ns]\n",
      " 1   uid     1000000 non-null  int64         \n",
      "dtypes: datetime64[ns](1), int64(1)\n",
      "memory usage: 15.3 MB\n"
     ]
    }
   ],
   "source": [
    "#5. Изучаем количество значений в датафрейме, смотрим на тип данных\n",
    "reg_data.info()"
   ]
  },
  {
   "cell_type": "code",
   "execution_count": 8,
   "metadata": {},
   "outputs": [],
   "source": [
    "#6. Переводим формат \"unix\" на формат \"datetime\"\n",
    "auth_data['auth_ts'] = pd.to_datetime(auth_data['auth_ts'], unit = 's').dt.strftime('%Y-%m-%d')\n",
    "auth_data['auth_ts'] = pd.to_datetime(auth_data['auth_ts'], format = '%Y-%m-%d')"
   ]
  },
  {
   "cell_type": "code",
   "execution_count": 9,
   "metadata": {},
   "outputs": [
    {
     "data": {
      "text/html": [
       "<div>\n",
       "<style scoped>\n",
       "    .dataframe tbody tr th:only-of-type {\n",
       "        vertical-align: middle;\n",
       "    }\n",
       "\n",
       "    .dataframe tbody tr th {\n",
       "        vertical-align: top;\n",
       "    }\n",
       "\n",
       "    .dataframe thead th {\n",
       "        text-align: right;\n",
       "    }\n",
       "</style>\n",
       "<table border=\"1\" class=\"dataframe\">\n",
       "  <thead>\n",
       "    <tr style=\"text-align: right;\">\n",
       "      <th></th>\n",
       "      <th>auth_ts</th>\n",
       "      <th>uid</th>\n",
       "    </tr>\n",
       "  </thead>\n",
       "  <tbody>\n",
       "    <tr>\n",
       "      <th>0</th>\n",
       "      <td>1998-11-18</td>\n",
       "      <td>1</td>\n",
       "    </tr>\n",
       "    <tr>\n",
       "      <th>1</th>\n",
       "      <td>1999-07-22</td>\n",
       "      <td>2</td>\n",
       "    </tr>\n",
       "    <tr>\n",
       "      <th>2</th>\n",
       "      <td>1999-07-25</td>\n",
       "      <td>2</td>\n",
       "    </tr>\n",
       "    <tr>\n",
       "      <th>3</th>\n",
       "      <td>1999-07-31</td>\n",
       "      <td>2</td>\n",
       "    </tr>\n",
       "    <tr>\n",
       "      <th>4</th>\n",
       "      <td>1999-08-05</td>\n",
       "      <td>2</td>\n",
       "    </tr>\n",
       "  </tbody>\n",
       "</table>\n",
       "</div>"
      ],
      "text/plain": [
       "     auth_ts  uid\n",
       "0 1998-11-18    1\n",
       "1 1999-07-22    2\n",
       "2 1999-07-25    2\n",
       "3 1999-07-31    2\n",
       "4 1999-08-05    2"
      ]
     },
     "execution_count": 9,
     "metadata": {},
     "output_type": "execute_result"
    }
   ],
   "source": [
    "#7. Смотрим на полученный результат\n",
    "auth_data.head(5)"
   ]
  },
  {
   "cell_type": "code",
   "execution_count": 10,
   "metadata": {},
   "outputs": [
    {
     "name": "stdout",
     "output_type": "stream",
     "text": [
      "<class 'pandas.core.frame.DataFrame'>\n",
      "RangeIndex: 9601013 entries, 0 to 9601012\n",
      "Data columns (total 2 columns):\n",
      " #   Column   Dtype         \n",
      "---  ------   -----         \n",
      " 0   auth_ts  datetime64[ns]\n",
      " 1   uid      int64         \n",
      "dtypes: datetime64[ns](1), int64(1)\n",
      "memory usage: 146.5 MB\n"
     ]
    }
   ],
   "source": [
    "#8. Изучаем количество значений в датафрейме, смотрим на тип данных\n",
    "auth_data.info()"
   ]
  },
  {
   "cell_type": "code",
   "execution_count": 11,
   "metadata": {},
   "outputs": [
    {
     "data": {
      "text/plain": [
       "reg_ts       5110\n",
       "uid       1000000\n",
       "dtype: int64"
      ]
     },
     "execution_count": 11,
     "metadata": {},
     "output_type": "execute_result"
    }
   ],
   "source": [
    "#9. Смотрим на количество уникальных значений в каждом столбце\n",
    "reg_data.nunique()"
   ]
  },
  {
   "cell_type": "code",
   "execution_count": 12,
   "metadata": {},
   "outputs": [
    {
     "data": {
      "text/plain": [
       "Timestamp('1998-11-18 00:00:00')"
      ]
     },
     "execution_count": 12,
     "metadata": {},
     "output_type": "execute_result"
    }
   ],
   "source": [
    "#10. Минимальная дата регистрации\n",
    "reg_data['reg_ts'].min()"
   ]
  },
  {
   "cell_type": "code",
   "execution_count": 13,
   "metadata": {},
   "outputs": [
    {
     "data": {
      "text/plain": [
       "Timestamp('2020-09-23 00:00:00')"
      ]
     },
     "execution_count": 13,
     "metadata": {},
     "output_type": "execute_result"
    }
   ],
   "source": [
    "#11. Максимальная дата регистрации\n",
    "reg_data['reg_ts'].max()"
   ]
  },
  {
   "cell_type": "code",
   "execution_count": 14,
   "metadata": {},
   "outputs": [
    {
     "data": {
      "text/plain": [
       "auth_ts       6169\n",
       "uid        1000000\n",
       "dtype: int64"
      ]
     },
     "execution_count": 14,
     "metadata": {},
     "output_type": "execute_result"
    }
   ],
   "source": [
    "#12. Смотрим на количество уникальных значений в каждом столбце\n",
    "auth_data.nunique()"
   ]
  },
  {
   "cell_type": "markdown",
   "metadata": {},
   "source": [
    "После предварительного изучения данных мы получили следующие выводы:\n",
    "1. Датафрейм \"reg_data\" включает в себя информацию о дате регистрации каждого пользователя в период с 1998 по 2020 год.\n",
    "2. Датафрейм \"auth_data\" включает в себя информацию о датах авторизации каждого пользователя, то есть заходы зарегистрированных пользователей в мобильную игру.\n",
    "3. Количество уникальных игроков раняется 1 000 000.\n",
    "4. Данные о заходах в игру включает в себя 9 601 013 дат.\n",
    "\n",
    "Далее приступаем к анализу retention-пользователей.\n"
   ]
  },
  {
   "cell_type": "code",
   "execution_count": 16,
   "metadata": {},
   "outputs": [
    {
     "data": {
      "text/html": [
       "<div>\n",
       "<style scoped>\n",
       "    .dataframe tbody tr th:only-of-type {\n",
       "        vertical-align: middle;\n",
       "    }\n",
       "\n",
       "    .dataframe tbody tr th {\n",
       "        vertical-align: top;\n",
       "    }\n",
       "\n",
       "    .dataframe thead th {\n",
       "        text-align: right;\n",
       "    }\n",
       "</style>\n",
       "<table border=\"1\" class=\"dataframe\">\n",
       "  <thead>\n",
       "    <tr style=\"text-align: right;\">\n",
       "      <th></th>\n",
       "      <th>uid</th>\n",
       "      <th>reg_ts</th>\n",
       "      <th>auth_ts</th>\n",
       "    </tr>\n",
       "  </thead>\n",
       "  <tbody>\n",
       "    <tr>\n",
       "      <th>0</th>\n",
       "      <td>1</td>\n",
       "      <td>1998-11-18</td>\n",
       "      <td>1998-11-18</td>\n",
       "    </tr>\n",
       "    <tr>\n",
       "      <th>1</th>\n",
       "      <td>2</td>\n",
       "      <td>1999-07-22</td>\n",
       "      <td>1999-07-22</td>\n",
       "    </tr>\n",
       "    <tr>\n",
       "      <th>2</th>\n",
       "      <td>2</td>\n",
       "      <td>1999-07-22</td>\n",
       "      <td>1999-07-25</td>\n",
       "    </tr>\n",
       "    <tr>\n",
       "      <th>3</th>\n",
       "      <td>2</td>\n",
       "      <td>1999-07-22</td>\n",
       "      <td>1999-07-31</td>\n",
       "    </tr>\n",
       "    <tr>\n",
       "      <th>4</th>\n",
       "      <td>2</td>\n",
       "      <td>1999-07-22</td>\n",
       "      <td>1999-08-05</td>\n",
       "    </tr>\n",
       "    <tr>\n",
       "      <th>...</th>\n",
       "      <td>...</td>\n",
       "      <td>...</td>\n",
       "      <td>...</td>\n",
       "    </tr>\n",
       "    <tr>\n",
       "      <th>9601008</th>\n",
       "      <td>1110618</td>\n",
       "      <td>2020-09-23</td>\n",
       "      <td>2020-09-23</td>\n",
       "    </tr>\n",
       "    <tr>\n",
       "      <th>9601009</th>\n",
       "      <td>1110619</td>\n",
       "      <td>2020-09-23</td>\n",
       "      <td>2020-09-23</td>\n",
       "    </tr>\n",
       "    <tr>\n",
       "      <th>9601010</th>\n",
       "      <td>1110620</td>\n",
       "      <td>2020-09-23</td>\n",
       "      <td>2020-09-23</td>\n",
       "    </tr>\n",
       "    <tr>\n",
       "      <th>9601011</th>\n",
       "      <td>1110621</td>\n",
       "      <td>2020-09-23</td>\n",
       "      <td>2020-09-23</td>\n",
       "    </tr>\n",
       "    <tr>\n",
       "      <th>9601012</th>\n",
       "      <td>1110622</td>\n",
       "      <td>2020-09-23</td>\n",
       "      <td>2020-09-23</td>\n",
       "    </tr>\n",
       "  </tbody>\n",
       "</table>\n",
       "<p>9601013 rows × 3 columns</p>\n",
       "</div>"
      ],
      "text/plain": [
       "             uid     reg_ts    auth_ts\n",
       "0              1 1998-11-18 1998-11-18\n",
       "1              2 1999-07-22 1999-07-22\n",
       "2              2 1999-07-22 1999-07-25\n",
       "3              2 1999-07-22 1999-07-31\n",
       "4              2 1999-07-22 1999-08-05\n",
       "...          ...        ...        ...\n",
       "9601008  1110618 2020-09-23 2020-09-23\n",
       "9601009  1110619 2020-09-23 2020-09-23\n",
       "9601010  1110620 2020-09-23 2020-09-23\n",
       "9601011  1110621 2020-09-23 2020-09-23\n",
       "9601012  1110622 2020-09-23 2020-09-23\n",
       "\n",
       "[9601013 rows x 3 columns]"
      ]
     },
     "execution_count": 16,
     "metadata": {},
     "output_type": "execute_result"
    }
   ],
   "source": [
    "#13. Объединяем датафреймы\n",
    "full_data = auth_data.merge(reg_data, how = 'left', on = 'uid')\n",
    "full_data = full_data[['uid', 'reg_ts', 'auth_ts']]\n",
    "full_data"
   ]
  },
  {
   "cell_type": "code",
   "execution_count": 17,
   "metadata": {},
   "outputs": [],
   "source": [
    "#14. Находим разницу (в днях) от каждой даты захода в игру и даты регистрации\n",
    "full_data['days_diff'] = full_data['auth_ts'] - full_data['reg_ts']\n",
    "full_data['days_diff'] = full_data['days_diff'].dt.days"
   ]
  },
  {
   "cell_type": "code",
   "execution_count": 18,
   "metadata": {},
   "outputs": [],
   "source": [
    "#15. Отдельно извлекаем год регистрации \n",
    "full_data['reg_year'] = full_data['reg_ts'].dt.year"
   ]
  },
  {
   "cell_type": "code",
   "execution_count": 19,
   "metadata": {},
   "outputs": [
    {
     "data": {
      "text/html": [
       "<div>\n",
       "<style scoped>\n",
       "    .dataframe tbody tr th:only-of-type {\n",
       "        vertical-align: middle;\n",
       "    }\n",
       "\n",
       "    .dataframe tbody tr th {\n",
       "        vertical-align: top;\n",
       "    }\n",
       "\n",
       "    .dataframe thead th {\n",
       "        text-align: right;\n",
       "    }\n",
       "</style>\n",
       "<table border=\"1\" class=\"dataframe\">\n",
       "  <thead>\n",
       "    <tr style=\"text-align: right;\">\n",
       "      <th></th>\n",
       "      <th>user_id</th>\n",
       "      <th>reg_date</th>\n",
       "      <th>active_dates</th>\n",
       "      <th>active_days</th>\n",
       "      <th>reg_year</th>\n",
       "    </tr>\n",
       "  </thead>\n",
       "  <tbody>\n",
       "    <tr>\n",
       "      <th>0</th>\n",
       "      <td>1</td>\n",
       "      <td>1998-11-18</td>\n",
       "      <td>1998-11-18</td>\n",
       "      <td>0</td>\n",
       "      <td>1998</td>\n",
       "    </tr>\n",
       "    <tr>\n",
       "      <th>1</th>\n",
       "      <td>2</td>\n",
       "      <td>1999-07-22</td>\n",
       "      <td>1999-07-22</td>\n",
       "      <td>0</td>\n",
       "      <td>1999</td>\n",
       "    </tr>\n",
       "    <tr>\n",
       "      <th>2</th>\n",
       "      <td>2</td>\n",
       "      <td>1999-07-22</td>\n",
       "      <td>1999-07-25</td>\n",
       "      <td>3</td>\n",
       "      <td>1999</td>\n",
       "    </tr>\n",
       "    <tr>\n",
       "      <th>3</th>\n",
       "      <td>2</td>\n",
       "      <td>1999-07-22</td>\n",
       "      <td>1999-07-31</td>\n",
       "      <td>9</td>\n",
       "      <td>1999</td>\n",
       "    </tr>\n",
       "    <tr>\n",
       "      <th>4</th>\n",
       "      <td>2</td>\n",
       "      <td>1999-07-22</td>\n",
       "      <td>1999-08-05</td>\n",
       "      <td>14</td>\n",
       "      <td>1999</td>\n",
       "    </tr>\n",
       "    <tr>\n",
       "      <th>...</th>\n",
       "      <td>...</td>\n",
       "      <td>...</td>\n",
       "      <td>...</td>\n",
       "      <td>...</td>\n",
       "      <td>...</td>\n",
       "    </tr>\n",
       "    <tr>\n",
       "      <th>9601008</th>\n",
       "      <td>1110618</td>\n",
       "      <td>2020-09-23</td>\n",
       "      <td>2020-09-23</td>\n",
       "      <td>0</td>\n",
       "      <td>2020</td>\n",
       "    </tr>\n",
       "    <tr>\n",
       "      <th>9601009</th>\n",
       "      <td>1110619</td>\n",
       "      <td>2020-09-23</td>\n",
       "      <td>2020-09-23</td>\n",
       "      <td>0</td>\n",
       "      <td>2020</td>\n",
       "    </tr>\n",
       "    <tr>\n",
       "      <th>9601010</th>\n",
       "      <td>1110620</td>\n",
       "      <td>2020-09-23</td>\n",
       "      <td>2020-09-23</td>\n",
       "      <td>0</td>\n",
       "      <td>2020</td>\n",
       "    </tr>\n",
       "    <tr>\n",
       "      <th>9601011</th>\n",
       "      <td>1110621</td>\n",
       "      <td>2020-09-23</td>\n",
       "      <td>2020-09-23</td>\n",
       "      <td>0</td>\n",
       "      <td>2020</td>\n",
       "    </tr>\n",
       "    <tr>\n",
       "      <th>9601012</th>\n",
       "      <td>1110622</td>\n",
       "      <td>2020-09-23</td>\n",
       "      <td>2020-09-23</td>\n",
       "      <td>0</td>\n",
       "      <td>2020</td>\n",
       "    </tr>\n",
       "  </tbody>\n",
       "</table>\n",
       "<p>9601013 rows × 5 columns</p>\n",
       "</div>"
      ],
      "text/plain": [
       "         user_id   reg_date active_dates  active_days  reg_year\n",
       "0              1 1998-11-18   1998-11-18            0      1998\n",
       "1              2 1999-07-22   1999-07-22            0      1999\n",
       "2              2 1999-07-22   1999-07-25            3      1999\n",
       "3              2 1999-07-22   1999-07-31            9      1999\n",
       "4              2 1999-07-22   1999-08-05           14      1999\n",
       "...          ...        ...          ...          ...       ...\n",
       "9601008  1110618 2020-09-23   2020-09-23            0      2020\n",
       "9601009  1110619 2020-09-23   2020-09-23            0      2020\n",
       "9601010  1110620 2020-09-23   2020-09-23            0      2020\n",
       "9601011  1110621 2020-09-23   2020-09-23            0      2020\n",
       "9601012  1110622 2020-09-23   2020-09-23            0      2020\n",
       "\n",
       "[9601013 rows x 5 columns]"
      ]
     },
     "execution_count": 19,
     "metadata": {},
     "output_type": "execute_result"
    }
   ],
   "source": [
    "#16. Переименуем столбцы\n",
    "full_data = full_data.rename(columns = {'uid': 'user_id',\n",
    "                            'reg_ts': 'reg_date',\n",
    "                            'auth_ts': 'active_dates',\n",
    "                            'days_diff': 'active_days'})\n",
    "full_data"
   ]
  },
  {
   "cell_type": "code",
   "execution_count": 20,
   "metadata": {},
   "outputs": [
    {
     "name": "stdout",
     "output_type": "stream",
     "text": [
      "<class 'pandas.core.frame.DataFrame'>\n",
      "Int64Index: 9601013 entries, 0 to 9601012\n",
      "Data columns (total 5 columns):\n",
      " #   Column        Dtype         \n",
      "---  ------        -----         \n",
      " 0   user_id       int64         \n",
      " 1   reg_date      datetime64[ns]\n",
      " 2   active_dates  datetime64[ns]\n",
      " 3   active_days   int64         \n",
      " 4   reg_year      int64         \n",
      "dtypes: datetime64[ns](2), int64(3)\n",
      "memory usage: 439.5 MB\n"
     ]
    }
   ],
   "source": [
    "#17. Изучаем типы данных и полученный результат после проведения манипуляций\n",
    "full_data.info()"
   ]
  },
  {
   "cell_type": "code",
   "execution_count": 21,
   "metadata": {},
   "outputs": [
    {
     "data": {
      "text/html": [
       "<div>\n",
       "<style scoped>\n",
       "    .dataframe tbody tr th:only-of-type {\n",
       "        vertical-align: middle;\n",
       "    }\n",
       "\n",
       "    .dataframe tbody tr th {\n",
       "        vertical-align: top;\n",
       "    }\n",
       "\n",
       "    .dataframe thead th {\n",
       "        text-align: right;\n",
       "    }\n",
       "</style>\n",
       "<table border=\"1\" class=\"dataframe\">\n",
       "  <thead>\n",
       "    <tr style=\"text-align: right;\">\n",
       "      <th></th>\n",
       "      <th>reg_year</th>\n",
       "      <th>active_days</th>\n",
       "    </tr>\n",
       "  </thead>\n",
       "  <tbody>\n",
       "    <tr>\n",
       "      <th>0</th>\n",
       "      <td>1998</td>\n",
       "      <td>0</td>\n",
       "    </tr>\n",
       "    <tr>\n",
       "      <th>1</th>\n",
       "      <td>1999</td>\n",
       "      <td>7729</td>\n",
       "    </tr>\n",
       "    <tr>\n",
       "      <th>2</th>\n",
       "      <td>2000</td>\n",
       "      <td>0</td>\n",
       "    </tr>\n",
       "    <tr>\n",
       "      <th>3</th>\n",
       "      <td>2001</td>\n",
       "      <td>0</td>\n",
       "    </tr>\n",
       "    <tr>\n",
       "      <th>4</th>\n",
       "      <td>2002</td>\n",
       "      <td>51</td>\n",
       "    </tr>\n",
       "    <tr>\n",
       "      <th>5</th>\n",
       "      <td>2003</td>\n",
       "      <td>43</td>\n",
       "    </tr>\n",
       "    <tr>\n",
       "      <th>6</th>\n",
       "      <td>2004</td>\n",
       "      <td>48</td>\n",
       "    </tr>\n",
       "    <tr>\n",
       "      <th>7</th>\n",
       "      <td>2005</td>\n",
       "      <td>5590</td>\n",
       "    </tr>\n",
       "    <tr>\n",
       "      <th>8</th>\n",
       "      <td>2006</td>\n",
       "      <td>5353</td>\n",
       "    </tr>\n",
       "    <tr>\n",
       "      <th>9</th>\n",
       "      <td>2007</td>\n",
       "      <td>5010</td>\n",
       "    </tr>\n",
       "    <tr>\n",
       "      <th>10</th>\n",
       "      <td>2008</td>\n",
       "      <td>4619</td>\n",
       "    </tr>\n",
       "    <tr>\n",
       "      <th>11</th>\n",
       "      <td>2009</td>\n",
       "      <td>4277</td>\n",
       "    </tr>\n",
       "    <tr>\n",
       "      <th>12</th>\n",
       "      <td>2010</td>\n",
       "      <td>3916</td>\n",
       "    </tr>\n",
       "    <tr>\n",
       "      <th>13</th>\n",
       "      <td>2011</td>\n",
       "      <td>3552</td>\n",
       "    </tr>\n",
       "    <tr>\n",
       "      <th>14</th>\n",
       "      <td>2012</td>\n",
       "      <td>3181</td>\n",
       "    </tr>\n",
       "    <tr>\n",
       "      <th>15</th>\n",
       "      <td>2013</td>\n",
       "      <td>2817</td>\n",
       "    </tr>\n",
       "    <tr>\n",
       "      <th>16</th>\n",
       "      <td>2014</td>\n",
       "      <td>2456</td>\n",
       "    </tr>\n",
       "    <tr>\n",
       "      <th>17</th>\n",
       "      <td>2015</td>\n",
       "      <td>2090</td>\n",
       "    </tr>\n",
       "    <tr>\n",
       "      <th>18</th>\n",
       "      <td>2016</td>\n",
       "      <td>1726</td>\n",
       "    </tr>\n",
       "    <tr>\n",
       "      <th>19</th>\n",
       "      <td>2017</td>\n",
       "      <td>1361</td>\n",
       "    </tr>\n",
       "    <tr>\n",
       "      <th>20</th>\n",
       "      <td>2018</td>\n",
       "      <td>996</td>\n",
       "    </tr>\n",
       "    <tr>\n",
       "      <th>21</th>\n",
       "      <td>2019</td>\n",
       "      <td>631</td>\n",
       "    </tr>\n",
       "    <tr>\n",
       "      <th>22</th>\n",
       "      <td>2020</td>\n",
       "      <td>266</td>\n",
       "    </tr>\n",
       "  </tbody>\n",
       "</table>\n",
       "</div>"
      ],
      "text/plain": [
       "    reg_year  active_days\n",
       "0       1998            0\n",
       "1       1999         7729\n",
       "2       2000            0\n",
       "3       2001            0\n",
       "4       2002           51\n",
       "5       2003           43\n",
       "6       2004           48\n",
       "7       2005         5590\n",
       "8       2006         5353\n",
       "9       2007         5010\n",
       "10      2008         4619\n",
       "11      2009         4277\n",
       "12      2010         3916\n",
       "13      2011         3552\n",
       "14      2012         3181\n",
       "15      2013         2817\n",
       "16      2014         2456\n",
       "17      2015         2090\n",
       "18      2016         1726\n",
       "19      2017         1361\n",
       "20      2018          996\n",
       "21      2019          631\n",
       "22      2020          266"
      ]
     },
     "execution_count": 21,
     "metadata": {},
     "output_type": "execute_result"
    }
   ],
   "source": [
    "#18. Изучаем максимальную длину (в днях) retention пользователей для каждого года.\n",
    "full_data.groupby('reg_year', as_index = False)['active_days'].max()"
   ]
  },
  {
   "cell_type": "markdown",
   "metadata": {},
   "source": [
    "Коллега из бизнеса просил у нас сделать функция для расчета retention (по дням, от даты регистрации), но после изучения данных, мы видим, что временной интервал состоит 21 года. И, для лучшего восприятия, предлагается смотреть на retention пользователей, регистрированных в конкретном году. Таким образом, мы делим на данные на сэмплы исходя из года регистарции пользователя.\n",
    "\n",
    "Далее, мы будем тестировать нашу функцию на игроков регистрированных в 2019 году."
   ]
  },
  {
   "cell_type": "code",
   "execution_count": 22,
   "metadata": {},
   "outputs": [
    {
     "data": {
      "text/html": [
       "<div>\n",
       "<style scoped>\n",
       "    .dataframe tbody tr th:only-of-type {\n",
       "        vertical-align: middle;\n",
       "    }\n",
       "\n",
       "    .dataframe tbody tr th {\n",
       "        vertical-align: top;\n",
       "    }\n",
       "\n",
       "    .dataframe thead th {\n",
       "        text-align: right;\n",
       "    }\n",
       "</style>\n",
       "<table border=\"1\" class=\"dataframe\">\n",
       "  <thead>\n",
       "    <tr style=\"text-align: right;\">\n",
       "      <th></th>\n",
       "      <th>user_id</th>\n",
       "      <th>reg_date</th>\n",
       "      <th>active_dates</th>\n",
       "      <th>active_days</th>\n",
       "      <th>reg_year</th>\n",
       "    </tr>\n",
       "  </thead>\n",
       "  <tbody>\n",
       "    <tr>\n",
       "      <th>3383865</th>\n",
       "      <td>393071</td>\n",
       "      <td>2019-01-01</td>\n",
       "      <td>2019-01-01</td>\n",
       "      <td>0</td>\n",
       "      <td>2019</td>\n",
       "    </tr>\n",
       "    <tr>\n",
       "      <th>3383873</th>\n",
       "      <td>393073</td>\n",
       "      <td>2019-01-01</td>\n",
       "      <td>2019-01-01</td>\n",
       "      <td>0</td>\n",
       "      <td>2019</td>\n",
       "    </tr>\n",
       "    <tr>\n",
       "      <th>3383880</th>\n",
       "      <td>393074</td>\n",
       "      <td>2019-01-01</td>\n",
       "      <td>2019-01-01</td>\n",
       "      <td>0</td>\n",
       "      <td>2019</td>\n",
       "    </tr>\n",
       "    <tr>\n",
       "      <th>3383887</th>\n",
       "      <td>393075</td>\n",
       "      <td>2019-01-01</td>\n",
       "      <td>2019-01-01</td>\n",
       "      <td>0</td>\n",
       "      <td>2019</td>\n",
       "    </tr>\n",
       "    <tr>\n",
       "      <th>3383895</th>\n",
       "      <td>393076</td>\n",
       "      <td>2019-01-01</td>\n",
       "      <td>2019-01-01</td>\n",
       "      <td>0</td>\n",
       "      <td>2019</td>\n",
       "    </tr>\n",
       "  </tbody>\n",
       "</table>\n",
       "</div>"
      ],
      "text/plain": [
       "         user_id   reg_date active_dates  active_days  reg_year\n",
       "3383865   393071 2019-01-01   2019-01-01            0      2019\n",
       "3383873   393073 2019-01-01   2019-01-01            0      2019\n",
       "3383880   393074 2019-01-01   2019-01-01            0      2019\n",
       "3383887   393075 2019-01-01   2019-01-01            0      2019\n",
       "3383895   393076 2019-01-01   2019-01-01            0      2019"
      ]
     },
     "execution_count": 22,
     "metadata": {},
     "output_type": "execute_result"
    }
   ],
   "source": [
    "#19. Выбираем выборку для проверки работы функции\n",
    "sample_data = full_data.query(\"reg_year == '2019'\")\n",
    "sample_data.head(5)"
   ]
  },
  {
   "cell_type": "markdown",
   "metadata": {},
   "source": [
    "Название функции: retention_by_day. \n",
    "По умолчанию, данная функция принимает в себя 3 аргумента:\n",
    "\n",
    "    reg_dates - данные о датах регистрации пользователей, \n",
    "    auth_dates - данные о каждом заходе игроков в мобильное приложение, \n",
    "    focus_year - год, в котором регистрировались игроки (наш сэмпл), то есть анализируем игроков зарегистрировавшихся именно в этом году."
   ]
  },
  {
   "cell_type": "code",
   "execution_count": 23,
   "metadata": {},
   "outputs": [],
   "source": [
    "#20. Функция, которая будет автомотизированно считать уровень удержания пользователей.\n",
    "\n",
    "def retention_by_day(reg_dates, auth_dates, focus_year):\n",
    "    \n",
    "    reg_dates['reg_ts'] = pd.to_datetime(reg_dates['reg_ts'], unit = 's').dt.strftime('%Y-%m-%d')\n",
    "    reg_dates['reg_ts'] = pd.to_datetime(reg_dates['reg_ts'], format = '%Y-%m-%d')\n",
    "    \n",
    "    auth_dates['auth_ts'] = pd.to_datetime(auth_dates['auth_ts'], unit = 's').dt.strftime('%Y-%m-%d')\n",
    "    auth_dates['auth_ts'] = pd.to_datetime(auth_dates['auth_ts'], format = '%Y-%m-%d')\n",
    "    \n",
    "    full_data = auth_dates.merge(reg_dates, how = 'left', on = 'uid')\n",
    "    \n",
    "    full_data['days_diff'] = full_data['auth_ts'] - full_data['reg_ts']\n",
    "    \n",
    "    full_data = full_data.rename(columns = {'uid': 'user_id',\n",
    "                            'reg_ts': 'reg_date',\n",
    "                            'auth_ts': 'active_dates',\n",
    "                            'days_diff': 'active_days'})\n",
    "    \n",
    "    year = str(focus_year)\n",
    "    \n",
    "    full_data['reg_year'] = full_data['reg_date'].dt.year\n",
    "    sample_data = full_data.query(\"reg_year == @year\")\n",
    "    \n",
    "    sample_data['active_days'] = sample_data['active_days'].dt.days\n",
    "    \n",
    "    retention_df = sample_data.groupby(['reg_date', 'active_days'])['user_id'].apply(pd.Series.nunique)\n",
    "    cohort_df = pd.DataFrame(retention_df).reset_index()\n",
    "    \n",
    "    cohort_df_table = cohort_df.pivot(index = 'reg_date', columns = 'active_days', values = 'user_id')\n",
    "    cohort_sizes = cohort_df_table.iloc[:,0]\n",
    "    \n",
    "    retention = round(cohort_df_table.divide(cohort_sizes, axis=0) * 100, 2)\n",
    "    \n",
    "    return retention"
   ]
  },
  {
   "cell_type": "code",
   "execution_count": 24,
   "metadata": {
    "scrolled": false
   },
   "outputs": [
    {
     "data": {
      "text/html": [
       "<div>\n",
       "<style scoped>\n",
       "    .dataframe tbody tr th:only-of-type {\n",
       "        vertical-align: middle;\n",
       "    }\n",
       "\n",
       "    .dataframe tbody tr th {\n",
       "        vertical-align: top;\n",
       "    }\n",
       "\n",
       "    .dataframe thead th {\n",
       "        text-align: right;\n",
       "    }\n",
       "</style>\n",
       "<table border=\"1\" class=\"dataframe\">\n",
       "  <thead>\n",
       "    <tr style=\"text-align: right;\">\n",
       "      <th>active_days</th>\n",
       "      <th>0</th>\n",
       "      <th>1</th>\n",
       "      <th>2</th>\n",
       "      <th>3</th>\n",
       "      <th>4</th>\n",
       "      <th>5</th>\n",
       "      <th>6</th>\n",
       "      <th>7</th>\n",
       "      <th>8</th>\n",
       "      <th>9</th>\n",
       "      <th>...</th>\n",
       "      <th>622</th>\n",
       "      <th>623</th>\n",
       "      <th>624</th>\n",
       "      <th>625</th>\n",
       "      <th>626</th>\n",
       "      <th>627</th>\n",
       "      <th>628</th>\n",
       "      <th>629</th>\n",
       "      <th>630</th>\n",
       "      <th>631</th>\n",
       "    </tr>\n",
       "    <tr>\n",
       "      <th>reg_date</th>\n",
       "      <th></th>\n",
       "      <th></th>\n",
       "      <th></th>\n",
       "      <th></th>\n",
       "      <th></th>\n",
       "      <th></th>\n",
       "      <th></th>\n",
       "      <th></th>\n",
       "      <th></th>\n",
       "      <th></th>\n",
       "      <th></th>\n",
       "      <th></th>\n",
       "      <th></th>\n",
       "      <th></th>\n",
       "      <th></th>\n",
       "      <th></th>\n",
       "      <th></th>\n",
       "      <th></th>\n",
       "      <th></th>\n",
       "      <th></th>\n",
       "      <th></th>\n",
       "    </tr>\n",
       "  </thead>\n",
       "  <tbody>\n",
       "    <tr>\n",
       "      <th>2019-01-01</th>\n",
       "      <td>100.0</td>\n",
       "      <td>2.06</td>\n",
       "      <td>3.77</td>\n",
       "      <td>4.97</td>\n",
       "      <td>4.46</td>\n",
       "      <td>6.35</td>\n",
       "      <td>8.23</td>\n",
       "      <td>5.83</td>\n",
       "      <td>5.49</td>\n",
       "      <td>6.00</td>\n",
       "      <td>...</td>\n",
       "      <td>0.86</td>\n",
       "      <td>1.20</td>\n",
       "      <td>1.20</td>\n",
       "      <td>0.86</td>\n",
       "      <td>1.03</td>\n",
       "      <td>1.03</td>\n",
       "      <td>1.72</td>\n",
       "      <td>1.03</td>\n",
       "      <td>1.20</td>\n",
       "      <td>0.34</td>\n",
       "    </tr>\n",
       "    <tr>\n",
       "      <th>2019-01-02</th>\n",
       "      <td>100.0</td>\n",
       "      <td>1.72</td>\n",
       "      <td>4.97</td>\n",
       "      <td>3.60</td>\n",
       "      <td>4.97</td>\n",
       "      <td>8.06</td>\n",
       "      <td>5.49</td>\n",
       "      <td>7.03</td>\n",
       "      <td>3.09</td>\n",
       "      <td>4.12</td>\n",
       "      <td>...</td>\n",
       "      <td>1.72</td>\n",
       "      <td>0.86</td>\n",
       "      <td>1.37</td>\n",
       "      <td>1.89</td>\n",
       "      <td>0.86</td>\n",
       "      <td>1.20</td>\n",
       "      <td>1.72</td>\n",
       "      <td>1.72</td>\n",
       "      <td>0.69</td>\n",
       "      <td>NaN</td>\n",
       "    </tr>\n",
       "    <tr>\n",
       "      <th>2019-01-03</th>\n",
       "      <td>100.0</td>\n",
       "      <td>1.71</td>\n",
       "      <td>3.08</td>\n",
       "      <td>4.44</td>\n",
       "      <td>5.98</td>\n",
       "      <td>6.32</td>\n",
       "      <td>6.50</td>\n",
       "      <td>5.81</td>\n",
       "      <td>2.22</td>\n",
       "      <td>4.96</td>\n",
       "      <td>...</td>\n",
       "      <td>1.03</td>\n",
       "      <td>1.20</td>\n",
       "      <td>1.71</td>\n",
       "      <td>1.20</td>\n",
       "      <td>1.37</td>\n",
       "      <td>1.37</td>\n",
       "      <td>1.20</td>\n",
       "      <td>0.51</td>\n",
       "      <td>NaN</td>\n",
       "      <td>NaN</td>\n",
       "    </tr>\n",
       "    <tr>\n",
       "      <th>2019-01-04</th>\n",
       "      <td>100.0</td>\n",
       "      <td>2.74</td>\n",
       "      <td>3.76</td>\n",
       "      <td>4.27</td>\n",
       "      <td>5.47</td>\n",
       "      <td>5.47</td>\n",
       "      <td>8.03</td>\n",
       "      <td>5.30</td>\n",
       "      <td>4.27</td>\n",
       "      <td>5.30</td>\n",
       "      <td>...</td>\n",
       "      <td>0.68</td>\n",
       "      <td>0.85</td>\n",
       "      <td>0.68</td>\n",
       "      <td>0.68</td>\n",
       "      <td>1.37</td>\n",
       "      <td>0.85</td>\n",
       "      <td>0.68</td>\n",
       "      <td>NaN</td>\n",
       "      <td>NaN</td>\n",
       "      <td>NaN</td>\n",
       "    </tr>\n",
       "    <tr>\n",
       "      <th>2019-01-05</th>\n",
       "      <td>100.0</td>\n",
       "      <td>1.88</td>\n",
       "      <td>4.10</td>\n",
       "      <td>4.61</td>\n",
       "      <td>4.95</td>\n",
       "      <td>8.19</td>\n",
       "      <td>7.17</td>\n",
       "      <td>7.00</td>\n",
       "      <td>5.97</td>\n",
       "      <td>4.10</td>\n",
       "      <td>...</td>\n",
       "      <td>1.37</td>\n",
       "      <td>1.71</td>\n",
       "      <td>2.05</td>\n",
       "      <td>0.85</td>\n",
       "      <td>1.88</td>\n",
       "      <td>0.68</td>\n",
       "      <td>NaN</td>\n",
       "      <td>NaN</td>\n",
       "      <td>NaN</td>\n",
       "      <td>NaN</td>\n",
       "    </tr>\n",
       "    <tr>\n",
       "      <th>...</th>\n",
       "      <td>...</td>\n",
       "      <td>...</td>\n",
       "      <td>...</td>\n",
       "      <td>...</td>\n",
       "      <td>...</td>\n",
       "      <td>...</td>\n",
       "      <td>...</td>\n",
       "      <td>...</td>\n",
       "      <td>...</td>\n",
       "      <td>...</td>\n",
       "      <td>...</td>\n",
       "      <td>...</td>\n",
       "      <td>...</td>\n",
       "      <td>...</td>\n",
       "      <td>...</td>\n",
       "      <td>...</td>\n",
       "      <td>...</td>\n",
       "      <td>...</td>\n",
       "      <td>...</td>\n",
       "      <td>...</td>\n",
       "      <td>...</td>\n",
       "    </tr>\n",
       "    <tr>\n",
       "      <th>2019-12-27</th>\n",
       "      <td>100.0</td>\n",
       "      <td>2.37</td>\n",
       "      <td>3.70</td>\n",
       "      <td>3.13</td>\n",
       "      <td>5.32</td>\n",
       "      <td>5.98</td>\n",
       "      <td>6.36</td>\n",
       "      <td>7.03</td>\n",
       "      <td>4.08</td>\n",
       "      <td>5.32</td>\n",
       "      <td>...</td>\n",
       "      <td>NaN</td>\n",
       "      <td>NaN</td>\n",
       "      <td>NaN</td>\n",
       "      <td>NaN</td>\n",
       "      <td>NaN</td>\n",
       "      <td>NaN</td>\n",
       "      <td>NaN</td>\n",
       "      <td>NaN</td>\n",
       "      <td>NaN</td>\n",
       "      <td>NaN</td>\n",
       "    </tr>\n",
       "    <tr>\n",
       "      <th>2019-12-28</th>\n",
       "      <td>100.0</td>\n",
       "      <td>1.80</td>\n",
       "      <td>3.89</td>\n",
       "      <td>4.46</td>\n",
       "      <td>5.12</td>\n",
       "      <td>6.74</td>\n",
       "      <td>6.45</td>\n",
       "      <td>5.69</td>\n",
       "      <td>5.60</td>\n",
       "      <td>4.46</td>\n",
       "      <td>...</td>\n",
       "      <td>NaN</td>\n",
       "      <td>NaN</td>\n",
       "      <td>NaN</td>\n",
       "      <td>NaN</td>\n",
       "      <td>NaN</td>\n",
       "      <td>NaN</td>\n",
       "      <td>NaN</td>\n",
       "      <td>NaN</td>\n",
       "      <td>NaN</td>\n",
       "      <td>NaN</td>\n",
       "    </tr>\n",
       "    <tr>\n",
       "      <th>2019-12-29</th>\n",
       "      <td>100.0</td>\n",
       "      <td>1.42</td>\n",
       "      <td>4.82</td>\n",
       "      <td>5.30</td>\n",
       "      <td>5.77</td>\n",
       "      <td>5.39</td>\n",
       "      <td>7.00</td>\n",
       "      <td>5.87</td>\n",
       "      <td>5.87</td>\n",
       "      <td>4.73</td>\n",
       "      <td>...</td>\n",
       "      <td>NaN</td>\n",
       "      <td>NaN</td>\n",
       "      <td>NaN</td>\n",
       "      <td>NaN</td>\n",
       "      <td>NaN</td>\n",
       "      <td>NaN</td>\n",
       "      <td>NaN</td>\n",
       "      <td>NaN</td>\n",
       "      <td>NaN</td>\n",
       "      <td>NaN</td>\n",
       "    </tr>\n",
       "    <tr>\n",
       "      <th>2019-12-30</th>\n",
       "      <td>100.0</td>\n",
       "      <td>1.89</td>\n",
       "      <td>3.78</td>\n",
       "      <td>5.20</td>\n",
       "      <td>5.39</td>\n",
       "      <td>6.14</td>\n",
       "      <td>7.66</td>\n",
       "      <td>4.63</td>\n",
       "      <td>4.91</td>\n",
       "      <td>4.82</td>\n",
       "      <td>...</td>\n",
       "      <td>NaN</td>\n",
       "      <td>NaN</td>\n",
       "      <td>NaN</td>\n",
       "      <td>NaN</td>\n",
       "      <td>NaN</td>\n",
       "      <td>NaN</td>\n",
       "      <td>NaN</td>\n",
       "      <td>NaN</td>\n",
       "      <td>NaN</td>\n",
       "      <td>NaN</td>\n",
       "    </tr>\n",
       "    <tr>\n",
       "      <th>2019-12-31</th>\n",
       "      <td>100.0</td>\n",
       "      <td>2.08</td>\n",
       "      <td>3.77</td>\n",
       "      <td>5.57</td>\n",
       "      <td>5.47</td>\n",
       "      <td>6.32</td>\n",
       "      <td>7.45</td>\n",
       "      <td>5.75</td>\n",
       "      <td>4.62</td>\n",
       "      <td>6.23</td>\n",
       "      <td>...</td>\n",
       "      <td>NaN</td>\n",
       "      <td>NaN</td>\n",
       "      <td>NaN</td>\n",
       "      <td>NaN</td>\n",
       "      <td>NaN</td>\n",
       "      <td>NaN</td>\n",
       "      <td>NaN</td>\n",
       "      <td>NaN</td>\n",
       "      <td>NaN</td>\n",
       "      <td>NaN</td>\n",
       "    </tr>\n",
       "  </tbody>\n",
       "</table>\n",
       "<p>365 rows × 632 columns</p>\n",
       "</div>"
      ],
      "text/plain": [
       "active_days    0     1     2     3     4     5     6     7     8     9    ...  \\\n",
       "reg_date                                                                  ...   \n",
       "2019-01-01   100.0  2.06  3.77  4.97  4.46  6.35  8.23  5.83  5.49  6.00  ...   \n",
       "2019-01-02   100.0  1.72  4.97  3.60  4.97  8.06  5.49  7.03  3.09  4.12  ...   \n",
       "2019-01-03   100.0  1.71  3.08  4.44  5.98  6.32  6.50  5.81  2.22  4.96  ...   \n",
       "2019-01-04   100.0  2.74  3.76  4.27  5.47  5.47  8.03  5.30  4.27  5.30  ...   \n",
       "2019-01-05   100.0  1.88  4.10  4.61  4.95  8.19  7.17  7.00  5.97  4.10  ...   \n",
       "...            ...   ...   ...   ...   ...   ...   ...   ...   ...   ...  ...   \n",
       "2019-12-27   100.0  2.37  3.70  3.13  5.32  5.98  6.36  7.03  4.08  5.32  ...   \n",
       "2019-12-28   100.0  1.80  3.89  4.46  5.12  6.74  6.45  5.69  5.60  4.46  ...   \n",
       "2019-12-29   100.0  1.42  4.82  5.30  5.77  5.39  7.00  5.87  5.87  4.73  ...   \n",
       "2019-12-30   100.0  1.89  3.78  5.20  5.39  6.14  7.66  4.63  4.91  4.82  ...   \n",
       "2019-12-31   100.0  2.08  3.77  5.57  5.47  6.32  7.45  5.75  4.62  6.23  ...   \n",
       "\n",
       "active_days   622   623   624   625   626   627   628   629   630   631  \n",
       "reg_date                                                                 \n",
       "2019-01-01   0.86  1.20  1.20  0.86  1.03  1.03  1.72  1.03  1.20  0.34  \n",
       "2019-01-02   1.72  0.86  1.37  1.89  0.86  1.20  1.72  1.72  0.69   NaN  \n",
       "2019-01-03   1.03  1.20  1.71  1.20  1.37  1.37  1.20  0.51   NaN   NaN  \n",
       "2019-01-04   0.68  0.85  0.68  0.68  1.37  0.85  0.68   NaN   NaN   NaN  \n",
       "2019-01-05   1.37  1.71  2.05  0.85  1.88  0.68   NaN   NaN   NaN   NaN  \n",
       "...           ...   ...   ...   ...   ...   ...   ...   ...   ...   ...  \n",
       "2019-12-27    NaN   NaN   NaN   NaN   NaN   NaN   NaN   NaN   NaN   NaN  \n",
       "2019-12-28    NaN   NaN   NaN   NaN   NaN   NaN   NaN   NaN   NaN   NaN  \n",
       "2019-12-29    NaN   NaN   NaN   NaN   NaN   NaN   NaN   NaN   NaN   NaN  \n",
       "2019-12-30    NaN   NaN   NaN   NaN   NaN   NaN   NaN   NaN   NaN   NaN  \n",
       "2019-12-31    NaN   NaN   NaN   NaN   NaN   NaN   NaN   NaN   NaN   NaN  \n",
       "\n",
       "[365 rows x 632 columns]"
      ]
     },
     "execution_count": 24,
     "metadata": {},
     "output_type": "execute_result"
    }
   ],
   "source": [
    "#21. Проверяем работоспособность функции на данных 2019 года.\n",
    "retention_by_day = retention_by_day(reg_data, auth_data, 2019)\n",
    "retention_by_day"
   ]
  },
  {
   "cell_type": "markdown",
   "metadata": {},
   "source": [
    "Ниже, графически попытаемся показать полученные результаты на примере нашего сэмпла (sample_data). Данный график визуализирует какая доля пользователей, зарегистрированных за указанный год, удерживались в течении первых 30 дней. Такой подход лучше всего описывает полученные результаты. Классический пример для визуализации retention_rate, heatmap (тепловая карта) на таких длинных отрезках (retention по дням) не демонстрировал бы удобное восприятие информации. "
   ]
  },
  {
   "cell_type": "code",
   "execution_count": 25,
   "metadata": {},
   "outputs": [
    {
     "data": {
      "image/png": "[encoded data removed]",
      "text/plain": [
       "<Figure size 1440x504 with 1 Axes>"
      ]
     },
     "metadata": {},
     "output_type": "display_data"
    }
   ],
   "source": [
    "#22. Визуализируем полученные результаты\n",
    "whole_retention = sample_data.groupby('active_days')['user_id'].nunique() / sample_data['user_id'].nunique()\n",
    "\n",
    "plt.plot(whole_retention)\n",
    "plt.title(\"Daily Retention\")\n",
    "plt.xlabel(\"Days Since User First Started\")\n",
    "plt.ylabel(\"Percent Of Users Retained\")\n",
    "plt.ylim(0,1.05)\n",
    "\n",
    "plt.hlines(y=whole_retention.loc[30], xmin=0, xmax=30, linestyles='dotted')\n",
    "plt.vlines(x=30, ymin=0, ymax=whole_retention.loc[30], linestyles='dotted')\n",
    "plt.text(s=(\"{:.0%} пользователей оставались в приложении на 30 день\".format(whole_retention.loc[30])),\n",
    "        x=30, y=whole_retention.loc[30] + .05);"
   ]
  },
  {
   "cell_type": "markdown",
   "metadata": {},
   "source": [
    "Подводя итоги первой задачи, мы можем сказать, что была создана функция, которая считает retention rate пользователей мобильным приложением начиная от даты регистрации. Для удобства, функция была реализована таким образом, чтобы можно было смотреть уровень удержание пользователей исходя из года их регистрации (сэмпл из годового среза). А также, для более качественного восприятия полученных результатов retention rate, реализовали график, который показывает долю пользователей, который пользовались приложением в течении 30 дней после даты регистрации. Такой подход лучше описывает картину чем heatmap, учитывая горизонт длительности дней."
   ]
  },
  {
   "cell_type": "markdown",
   "metadata": {},
   "source": [
    "ЗАДАЧА 2."
   ]
  },
  {
   "cell_type": "markdown",
   "metadata": {},
   "source": [
    "В компании провели A/B тестирование наборов акционных предложений. На основе имеющихся данных определить, какой набор можно считать лучшим и на основе каких метрик стоит принять правильное решение."
   ]
  },
  {
   "cell_type": "code",
   "execution_count": 26,
   "metadata": {},
   "outputs": [
    {
     "data": {
      "text/html": [
       "<div>\n",
       "<style scoped>\n",
       "    .dataframe tbody tr th:only-of-type {\n",
       "        vertical-align: middle;\n",
       "    }\n",
       "\n",
       "    .dataframe tbody tr th {\n",
       "        vertical-align: top;\n",
       "    }\n",
       "\n",
       "    .dataframe thead th {\n",
       "        text-align: right;\n",
       "    }\n",
       "</style>\n",
       "<table border=\"1\" class=\"dataframe\">\n",
       "  <thead>\n",
       "    <tr style=\"text-align: right;\">\n",
       "      <th></th>\n",
       "      <th>user_id</th>\n",
       "      <th>revenue</th>\n",
       "      <th>testgroup</th>\n",
       "    </tr>\n",
       "  </thead>\n",
       "  <tbody>\n",
       "    <tr>\n",
       "      <th>0</th>\n",
       "      <td>1</td>\n",
       "      <td>0</td>\n",
       "      <td>b</td>\n",
       "    </tr>\n",
       "    <tr>\n",
       "      <th>1</th>\n",
       "      <td>2</td>\n",
       "      <td>0</td>\n",
       "      <td>a</td>\n",
       "    </tr>\n",
       "    <tr>\n",
       "      <th>2</th>\n",
       "      <td>3</td>\n",
       "      <td>0</td>\n",
       "      <td>a</td>\n",
       "    </tr>\n",
       "    <tr>\n",
       "      <th>3</th>\n",
       "      <td>4</td>\n",
       "      <td>0</td>\n",
       "      <td>b</td>\n",
       "    </tr>\n",
       "    <tr>\n",
       "      <th>4</th>\n",
       "      <td>5</td>\n",
       "      <td>0</td>\n",
       "      <td>b</td>\n",
       "    </tr>\n",
       "    <tr>\n",
       "      <th>...</th>\n",
       "      <td>...</td>\n",
       "      <td>...</td>\n",
       "      <td>...</td>\n",
       "    </tr>\n",
       "    <tr>\n",
       "      <th>404765</th>\n",
       "      <td>404766</td>\n",
       "      <td>0</td>\n",
       "      <td>a</td>\n",
       "    </tr>\n",
       "    <tr>\n",
       "      <th>404766</th>\n",
       "      <td>404767</td>\n",
       "      <td>0</td>\n",
       "      <td>b</td>\n",
       "    </tr>\n",
       "    <tr>\n",
       "      <th>404767</th>\n",
       "      <td>404768</td>\n",
       "      <td>231</td>\n",
       "      <td>a</td>\n",
       "    </tr>\n",
       "    <tr>\n",
       "      <th>404768</th>\n",
       "      <td>404769</td>\n",
       "      <td>0</td>\n",
       "      <td>a</td>\n",
       "    </tr>\n",
       "    <tr>\n",
       "      <th>404769</th>\n",
       "      <td>404770</td>\n",
       "      <td>0</td>\n",
       "      <td>b</td>\n",
       "    </tr>\n",
       "  </tbody>\n",
       "</table>\n",
       "<p>404770 rows × 3 columns</p>\n",
       "</div>"
      ],
      "text/plain": [
       "        user_id  revenue testgroup\n",
       "0             1        0         b\n",
       "1             2        0         a\n",
       "2             3        0         a\n",
       "3             4        0         b\n",
       "4             5        0         b\n",
       "...         ...      ...       ...\n",
       "404765   404766        0         a\n",
       "404766   404767        0         b\n",
       "404767   404768      231         a\n",
       "404768   404769        0         a\n",
       "404769   404770        0         b\n",
       "\n",
       "[404770 rows x 3 columns]"
      ]
     },
     "execution_count": 26,
     "metadata": {},
     "output_type": "execute_result"
    }
   ],
   "source": [
    "#1. Считываем данные из файла \"Проект_1_Задание_2.csv\" и сохраняем в датафрейм \"data\".\n",
    "data = pd.read_csv('/mnt/HC_Volume_18315164/home-jupyter/jupyter-s-allaberganov/FINAL PROJECT/Проект_1_Задание_2.csv', sep = ';')\n",
    "data"
   ]
  },
  {
   "cell_type": "code",
   "execution_count": 27,
   "metadata": {},
   "outputs": [
    {
     "name": "stdout",
     "output_type": "stream",
     "text": [
      "<class 'pandas.core.frame.DataFrame'>\n",
      "RangeIndex: 404770 entries, 0 to 404769\n",
      "Data columns (total 3 columns):\n",
      " #   Column     Non-Null Count   Dtype \n",
      "---  ------     --------------   ----- \n",
      " 0   user_id    404770 non-null  int64 \n",
      " 1   revenue    404770 non-null  int64 \n",
      " 2   testgroup  404770 non-null  object\n",
      "dtypes: int64(2), object(1)\n",
      "memory usage: 9.3+ MB\n"
     ]
    }
   ],
   "source": [
    "#2. Изучаем данные и смотрим на тип данных\n",
    "data.info()"
   ]
  },
  {
   "cell_type": "code",
   "execution_count": 28,
   "metadata": {},
   "outputs": [
    {
     "data": {
      "text/plain": [
       "user_id      404770\n",
       "revenue        1477\n",
       "testgroup         2\n",
       "dtype: int64"
      ]
     },
     "execution_count": 28,
     "metadata": {},
     "output_type": "execute_result"
    }
   ],
   "source": [
    "#3. Посчитаем количество уникальных значений в каждой колонке\n",
    "data.nunique()"
   ]
  },
  {
   "cell_type": "markdown",
   "metadata": {},
   "source": [
    "Из вышеуказанного шага видим, что все ячейки заполнены и не имеются пустых ячеек. Далее мы будем работать с группами, для которых предлагались разные виды акционных предложений. Для начало посчитаем количество платящих и неплатящих пользователей, посчитаем средний доход, который принес каждая группа, посмотрим на распределение данных в каждой выборке."
   ]
  },
  {
   "cell_type": "code",
   "execution_count": 29,
   "metadata": {},
   "outputs": [
    {
     "data": {
      "text/html": [
       "<div>\n",
       "<style scoped>\n",
       "    .dataframe tbody tr th:only-of-type {\n",
       "        vertical-align: middle;\n",
       "    }\n",
       "\n",
       "    .dataframe tbody tr th {\n",
       "        vertical-align: top;\n",
       "    }\n",
       "\n",
       "    .dataframe thead th {\n",
       "        text-align: right;\n",
       "    }\n",
       "</style>\n",
       "<table border=\"1\" class=\"dataframe\">\n",
       "  <thead>\n",
       "    <tr style=\"text-align: right;\">\n",
       "      <th></th>\n",
       "      <th>testgroup</th>\n",
       "      <th>user_id</th>\n",
       "    </tr>\n",
       "  </thead>\n",
       "  <tbody>\n",
       "    <tr>\n",
       "      <th>0</th>\n",
       "      <td>a</td>\n",
       "      <td>200175</td>\n",
       "    </tr>\n",
       "    <tr>\n",
       "      <th>1</th>\n",
       "      <td>b</td>\n",
       "      <td>200862</td>\n",
       "    </tr>\n",
       "  </tbody>\n",
       "</table>\n",
       "</div>"
      ],
      "text/plain": [
       "  testgroup  user_id\n",
       "0         a   200175\n",
       "1         b   200862"
      ]
     },
     "execution_count": 29,
     "metadata": {},
     "output_type": "execute_result"
    }
   ],
   "source": [
    "#4. Находим количество неплатящих пользователей\n",
    "data.query(\"revenue == '0'\") \\\n",
    "    .groupby('testgroup', as_index = False) \\\n",
    "    .agg({'user_id':'count'})"
   ]
  },
  {
   "cell_type": "code",
   "execution_count": 30,
   "metadata": {},
   "outputs": [
    {
     "data": {
      "text/html": [
       "<div>\n",
       "<style scoped>\n",
       "    .dataframe tbody tr th:only-of-type {\n",
       "        vertical-align: middle;\n",
       "    }\n",
       "\n",
       "    .dataframe tbody tr th {\n",
       "        vertical-align: top;\n",
       "    }\n",
       "\n",
       "    .dataframe thead th {\n",
       "        text-align: right;\n",
       "    }\n",
       "</style>\n",
       "<table border=\"1\" class=\"dataframe\">\n",
       "  <thead>\n",
       "    <tr style=\"text-align: right;\">\n",
       "      <th></th>\n",
       "      <th>testgroup</th>\n",
       "      <th>user_id</th>\n",
       "    </tr>\n",
       "  </thead>\n",
       "  <tbody>\n",
       "    <tr>\n",
       "      <th>0</th>\n",
       "      <td>a</td>\n",
       "      <td>1928</td>\n",
       "    </tr>\n",
       "    <tr>\n",
       "      <th>1</th>\n",
       "      <td>b</td>\n",
       "      <td>1805</td>\n",
       "    </tr>\n",
       "  </tbody>\n",
       "</table>\n",
       "</div>"
      ],
      "text/plain": [
       "  testgroup  user_id\n",
       "0         a     1928\n",
       "1         b     1805"
      ]
     },
     "execution_count": 30,
     "metadata": {},
     "output_type": "execute_result"
    }
   ],
   "source": [
    "#5. Находим количество платящих пользователей\n",
    "data.query(\"revenue !='0'\") \\\n",
    "    .groupby('testgroup', as_index = False) \\\n",
    "    .agg({'user_id':'count'})"
   ]
  },
  {
   "cell_type": "code",
   "execution_count": 31,
   "metadata": {},
   "outputs": [
    {
     "data": {
      "text/html": [
       "<div>\n",
       "<style scoped>\n",
       "    .dataframe tbody tr th:only-of-type {\n",
       "        vertical-align: middle;\n",
       "    }\n",
       "\n",
       "    .dataframe tbody tr th {\n",
       "        vertical-align: top;\n",
       "    }\n",
       "\n",
       "    .dataframe thead th {\n",
       "        text-align: right;\n",
       "    }\n",
       "</style>\n",
       "<table border=\"1\" class=\"dataframe\">\n",
       "  <thead>\n",
       "    <tr style=\"text-align: right;\">\n",
       "      <th></th>\n",
       "      <th>user_id</th>\n",
       "      <th>revenue</th>\n",
       "      <th>testgroup</th>\n",
       "    </tr>\n",
       "  </thead>\n",
       "  <tbody>\n",
       "    <tr>\n",
       "      <th>72</th>\n",
       "      <td>73</td>\n",
       "      <td>351</td>\n",
       "      <td>a</td>\n",
       "    </tr>\n",
       "    <tr>\n",
       "      <th>160</th>\n",
       "      <td>161</td>\n",
       "      <td>3797</td>\n",
       "      <td>b</td>\n",
       "    </tr>\n",
       "    <tr>\n",
       "      <th>341</th>\n",
       "      <td>342</td>\n",
       "      <td>290</td>\n",
       "      <td>a</td>\n",
       "    </tr>\n",
       "    <tr>\n",
       "      <th>377</th>\n",
       "      <td>378</td>\n",
       "      <td>3768</td>\n",
       "      <td>b</td>\n",
       "    </tr>\n",
       "    <tr>\n",
       "      <th>385</th>\n",
       "      <td>386</td>\n",
       "      <td>250</td>\n",
       "      <td>a</td>\n",
       "    </tr>\n",
       "    <tr>\n",
       "      <th>...</th>\n",
       "      <td>...</td>\n",
       "      <td>...</td>\n",
       "      <td>...</td>\n",
       "    </tr>\n",
       "    <tr>\n",
       "      <th>404315</th>\n",
       "      <td>404316</td>\n",
       "      <td>262</td>\n",
       "      <td>a</td>\n",
       "    </tr>\n",
       "    <tr>\n",
       "      <th>404525</th>\n",
       "      <td>404526</td>\n",
       "      <td>3120</td>\n",
       "      <td>b</td>\n",
       "    </tr>\n",
       "    <tr>\n",
       "      <th>404543</th>\n",
       "      <td>404544</td>\n",
       "      <td>369</td>\n",
       "      <td>a</td>\n",
       "    </tr>\n",
       "    <tr>\n",
       "      <th>404602</th>\n",
       "      <td>404603</td>\n",
       "      <td>251</td>\n",
       "      <td>a</td>\n",
       "    </tr>\n",
       "    <tr>\n",
       "      <th>404767</th>\n",
       "      <td>404768</td>\n",
       "      <td>231</td>\n",
       "      <td>a</td>\n",
       "    </tr>\n",
       "  </tbody>\n",
       "</table>\n",
       "<p>3733 rows × 3 columns</p>\n",
       "</div>"
      ],
      "text/plain": [
       "        user_id  revenue testgroup\n",
       "72           73      351         a\n",
       "160         161     3797         b\n",
       "341         342      290         a\n",
       "377         378     3768         b\n",
       "385         386      250         a\n",
       "...         ...      ...       ...\n",
       "404315   404316      262         a\n",
       "404525   404526     3120         b\n",
       "404543   404544      369         a\n",
       "404602   404603      251         a\n",
       "404767   404768      231         a\n",
       "\n",
       "[3733 rows x 3 columns]"
      ]
     },
     "execution_count": 31,
     "metadata": {},
     "output_type": "execute_result"
    }
   ],
   "source": [
    "#6. Проверяем полученный результат\n",
    "data_paying = data.query('revenue != 0')\n",
    "data_paying"
   ]
  },
  {
   "cell_type": "code",
   "execution_count": 32,
   "metadata": {},
   "outputs": [
    {
     "data": {
      "image/png": "[encoded data removed]",
      "text/plain": [
       "<Figure size 1440x504 with 1 Axes>"
      ]
     },
     "metadata": {},
     "output_type": "display_data"
    }
   ],
   "source": [
    "#7. Смотрим на распределение платящих пользователей  в каждой группе\n",
    "sns.histplot(x = 'revenue', data = data_paying, hue = 'testgroup')\n",
    "sns.despine()"
   ]
  },
  {
   "cell_type": "markdown",
   "metadata": {},
   "source": [
    "Из полученнего графика мы можем заметить, что в оплатах платящих пользователей имеются выбросы, в группе \"a\" выбросы даже очень сильно выражены. Отсюда мы можем сделать вывод о ненормальном распеределении выборки. Далее мы проводим тест Шапиро-Уилка, чтобы это подтвердить. Если p-value меньше 0.05 мы можем сделать вывод, что распределение отклоняется от нормального."
   ]
  },
  {
   "cell_type": "code",
   "execution_count": 33,
   "metadata": {},
   "outputs": [
    {
     "data": {
      "text/plain": [
       "ShapiroResult(statistic=0.26476240158081055, pvalue=0.0)"
      ]
     },
     "execution_count": 33,
     "metadata": {},
     "output_type": "execute_result"
    }
   ],
   "source": [
    "#8. Проводим тест Шапиро. Распределение отклоняется от нормального.\n",
    "group_a = data_paying[data_paying['testgroup'] == 'a']['revenue'].sample(1000, random_state=17)\n",
    "stats.shapiro(group_a)"
   ]
  },
  {
   "cell_type": "code",
   "execution_count": 34,
   "metadata": {},
   "outputs": [
    {
     "data": {
      "text/plain": [
       "ShapiroResult(statistic=0.9613320827484131, pvalue=1.2885095898576755e-15)"
      ]
     },
     "execution_count": 34,
     "metadata": {},
     "output_type": "execute_result"
    }
   ],
   "source": [
    "#9. Проводим тест Шапиро. Распределение отклоняется от нормального.\n",
    "group_b = data_paying[data_paying['testgroup'] == 'b']['revenue'].sample(1000, random_state=17)\n",
    "stats.shapiro(group_b)"
   ]
  },
  {
   "cell_type": "markdown",
   "metadata": {},
   "source": [
    "Метрики, которые мы будем исследовать: Средний чек = ARPPU (так как данные состоят исключительно из уникальных пользователей, и одна покупка приходится на одного покупателя), ARPU (средний доход с пользователя) и CR (доля платящих пользователей среди всех пользователей)."
   ]
  },
  {
   "cell_type": "code",
   "execution_count": 35,
   "metadata": {},
   "outputs": [
    {
     "data": {
      "text/html": [
       "<div>\n",
       "<style scoped>\n",
       "    .dataframe tbody tr th:only-of-type {\n",
       "        vertical-align: middle;\n",
       "    }\n",
       "\n",
       "    .dataframe tbody tr th {\n",
       "        vertical-align: top;\n",
       "    }\n",
       "\n",
       "    .dataframe thead th {\n",
       "        text-align: right;\n",
       "    }\n",
       "</style>\n",
       "<table border=\"1\" class=\"dataframe\">\n",
       "  <thead>\n",
       "    <tr style=\"text-align: right;\">\n",
       "      <th></th>\n",
       "      <th>testgroup</th>\n",
       "      <th>revenue</th>\n",
       "      <th>purchases</th>\n",
       "    </tr>\n",
       "  </thead>\n",
       "  <tbody>\n",
       "    <tr>\n",
       "      <th>0</th>\n",
       "      <td>a</td>\n",
       "      <td>5136189</td>\n",
       "      <td>1928</td>\n",
       "    </tr>\n",
       "    <tr>\n",
       "      <th>1</th>\n",
       "      <td>b</td>\n",
       "      <td>5421603</td>\n",
       "      <td>1805</td>\n",
       "    </tr>\n",
       "  </tbody>\n",
       "</table>\n",
       "</div>"
      ],
      "text/plain": [
       "  testgroup  revenue  purchases\n",
       "0         a  5136189       1928\n",
       "1         b  5421603       1805"
      ]
     },
     "execution_count": 35,
     "metadata": {},
     "output_type": "execute_result"
    }
   ],
   "source": [
    "#10. Подготовка к расчетам ARPPU (Средний чек)\n",
    "data_ARPPU = data_paying.groupby('testgroup', as_index = False) \\\n",
    "    .agg({'revenue': 'sum', 'user_id': 'count'}) \\\n",
    "    .rename(columns = {'user_id': 'purchases'})\n",
    "data_ARPPU"
   ]
  },
  {
   "cell_type": "code",
   "execution_count": 36,
   "metadata": {},
   "outputs": [
    {
     "data": {
      "text/html": [
       "<div>\n",
       "<style scoped>\n",
       "    .dataframe tbody tr th:only-of-type {\n",
       "        vertical-align: middle;\n",
       "    }\n",
       "\n",
       "    .dataframe tbody tr th {\n",
       "        vertical-align: top;\n",
       "    }\n",
       "\n",
       "    .dataframe thead th {\n",
       "        text-align: right;\n",
       "    }\n",
       "</style>\n",
       "<table border=\"1\" class=\"dataframe\">\n",
       "  <thead>\n",
       "    <tr style=\"text-align: right;\">\n",
       "      <th></th>\n",
       "      <th>testgroup</th>\n",
       "      <th>revenue</th>\n",
       "      <th>purchases</th>\n",
       "      <th>ARPPU</th>\n",
       "    </tr>\n",
       "  </thead>\n",
       "  <tbody>\n",
       "    <tr>\n",
       "      <th>0</th>\n",
       "      <td>a</td>\n",
       "      <td>5136189</td>\n",
       "      <td>1928</td>\n",
       "      <td>2664.00</td>\n",
       "    </tr>\n",
       "    <tr>\n",
       "      <th>1</th>\n",
       "      <td>b</td>\n",
       "      <td>5421603</td>\n",
       "      <td>1805</td>\n",
       "      <td>3003.66</td>\n",
       "    </tr>\n",
       "  </tbody>\n",
       "</table>\n",
       "</div>"
      ],
      "text/plain": [
       "  testgroup  revenue  purchases    ARPPU\n",
       "0         a  5136189       1928  2664.00\n",
       "1         b  5421603       1805  3003.66"
      ]
     },
     "execution_count": 36,
     "metadata": {},
     "output_type": "execute_result"
    }
   ],
   "source": [
    "#11. Расчет метрики ARPPU\n",
    "data_ARPPU['ARPPU'] = round(data_ARPPU['revenue'] / data_ARPPU['purchases'], 2)\n",
    "data_ARPPU"
   ]
  },
  {
   "cell_type": "code",
   "execution_count": 37,
   "metadata": {},
   "outputs": [
    {
     "data": {
      "text/html": [
       "<div>\n",
       "<style scoped>\n",
       "    .dataframe tbody tr th:only-of-type {\n",
       "        vertical-align: middle;\n",
       "    }\n",
       "\n",
       "    .dataframe tbody tr th {\n",
       "        vertical-align: top;\n",
       "    }\n",
       "\n",
       "    .dataframe thead th {\n",
       "        text-align: right;\n",
       "    }\n",
       "</style>\n",
       "<table border=\"1\" class=\"dataframe\">\n",
       "  <thead>\n",
       "    <tr style=\"text-align: right;\">\n",
       "      <th></th>\n",
       "      <th>testgroup</th>\n",
       "      <th>revenue</th>\n",
       "      <th>user_id</th>\n",
       "    </tr>\n",
       "  </thead>\n",
       "  <tbody>\n",
       "    <tr>\n",
       "      <th>0</th>\n",
       "      <td>a</td>\n",
       "      <td>5136189</td>\n",
       "      <td>202103</td>\n",
       "    </tr>\n",
       "    <tr>\n",
       "      <th>1</th>\n",
       "      <td>b</td>\n",
       "      <td>5421603</td>\n",
       "      <td>202667</td>\n",
       "    </tr>\n",
       "  </tbody>\n",
       "</table>\n",
       "</div>"
      ],
      "text/plain": [
       "  testgroup  revenue  user_id\n",
       "0         a  5136189   202103\n",
       "1         b  5421603   202667"
      ]
     },
     "execution_count": 37,
     "metadata": {},
     "output_type": "execute_result"
    }
   ],
   "source": [
    "#12. Подготовка к расчету ARPU\n",
    "data_ARPU = data.groupby('testgroup', as_index = False) \\\n",
    "    .agg({'revenue': 'sum', 'user_id': 'count'})\n",
    "data_ARPU"
   ]
  },
  {
   "cell_type": "code",
   "execution_count": 38,
   "metadata": {},
   "outputs": [
    {
     "data": {
      "text/html": [
       "<div>\n",
       "<style scoped>\n",
       "    .dataframe tbody tr th:only-of-type {\n",
       "        vertical-align: middle;\n",
       "    }\n",
       "\n",
       "    .dataframe tbody tr th {\n",
       "        vertical-align: top;\n",
       "    }\n",
       "\n",
       "    .dataframe thead th {\n",
       "        text-align: right;\n",
       "    }\n",
       "</style>\n",
       "<table border=\"1\" class=\"dataframe\">\n",
       "  <thead>\n",
       "    <tr style=\"text-align: right;\">\n",
       "      <th></th>\n",
       "      <th>testgroup</th>\n",
       "      <th>revenue</th>\n",
       "      <th>user_id</th>\n",
       "      <th>ARPU</th>\n",
       "    </tr>\n",
       "  </thead>\n",
       "  <tbody>\n",
       "    <tr>\n",
       "      <th>0</th>\n",
       "      <td>a</td>\n",
       "      <td>5136189</td>\n",
       "      <td>202103</td>\n",
       "      <td>25.41</td>\n",
       "    </tr>\n",
       "    <tr>\n",
       "      <th>1</th>\n",
       "      <td>b</td>\n",
       "      <td>5421603</td>\n",
       "      <td>202667</td>\n",
       "      <td>26.75</td>\n",
       "    </tr>\n",
       "  </tbody>\n",
       "</table>\n",
       "</div>"
      ],
      "text/plain": [
       "  testgroup  revenue  user_id   ARPU\n",
       "0         a  5136189   202103  25.41\n",
       "1         b  5421603   202667  26.75"
      ]
     },
     "execution_count": 38,
     "metadata": {},
     "output_type": "execute_result"
    }
   ],
   "source": [
    "#13. Расчет метрики ARPU\n",
    "data_ARPU['ARPU'] = round(data_ARPU['revenue'] / data_ARPU['user_id'], 2)\n",
    "data_ARPU"
   ]
  },
  {
   "cell_type": "code",
   "execution_count": 39,
   "metadata": {},
   "outputs": [
    {
     "data": {
      "text/html": [
       "<div>\n",
       "<style scoped>\n",
       "    .dataframe tbody tr th:only-of-type {\n",
       "        vertical-align: middle;\n",
       "    }\n",
       "\n",
       "    .dataframe tbody tr th {\n",
       "        vertical-align: top;\n",
       "    }\n",
       "\n",
       "    .dataframe thead th {\n",
       "        text-align: right;\n",
       "    }\n",
       "</style>\n",
       "<table border=\"1\" class=\"dataframe\">\n",
       "  <thead>\n",
       "    <tr style=\"text-align: right;\">\n",
       "      <th></th>\n",
       "      <th>testgroup</th>\n",
       "      <th>check</th>\n",
       "      <th>revenue</th>\n",
       "    </tr>\n",
       "  </thead>\n",
       "  <tbody>\n",
       "    <tr>\n",
       "      <th>0</th>\n",
       "      <td>a</td>\n",
       "      <td>1928</td>\n",
       "      <td>202103</td>\n",
       "    </tr>\n",
       "    <tr>\n",
       "      <th>1</th>\n",
       "      <td>b</td>\n",
       "      <td>1805</td>\n",
       "      <td>202667</td>\n",
       "    </tr>\n",
       "  </tbody>\n",
       "</table>\n",
       "</div>"
      ],
      "text/plain": [
       "  testgroup  check  revenue\n",
       "0         a   1928   202103\n",
       "1         b   1805   202667"
      ]
     },
     "execution_count": 39,
     "metadata": {},
     "output_type": "execute_result"
    }
   ],
   "source": [
    "#14. Подготовка к расчету CR\n",
    "data['check'] = data['revenue'] > 0\n",
    "data_CR = data.groupby('testgroup', as_index = False) \\\n",
    "    .agg({'check': 'sum', 'revenue': 'count'})\n",
    "data_CR"
   ]
  },
  {
   "cell_type": "code",
   "execution_count": 40,
   "metadata": {},
   "outputs": [
    {
     "data": {
      "text/html": [
       "<div>\n",
       "<style scoped>\n",
       "    .dataframe tbody tr th:only-of-type {\n",
       "        vertical-align: middle;\n",
       "    }\n",
       "\n",
       "    .dataframe tbody tr th {\n",
       "        vertical-align: top;\n",
       "    }\n",
       "\n",
       "    .dataframe thead th {\n",
       "        text-align: right;\n",
       "    }\n",
       "</style>\n",
       "<table border=\"1\" class=\"dataframe\">\n",
       "  <thead>\n",
       "    <tr style=\"text-align: right;\">\n",
       "      <th></th>\n",
       "      <th>testgroup</th>\n",
       "      <th>check</th>\n",
       "      <th>revenue</th>\n",
       "      <th>CR</th>\n",
       "    </tr>\n",
       "  </thead>\n",
       "  <tbody>\n",
       "    <tr>\n",
       "      <th>0</th>\n",
       "      <td>a</td>\n",
       "      <td>1928</td>\n",
       "      <td>202103</td>\n",
       "      <td>0.01</td>\n",
       "    </tr>\n",
       "    <tr>\n",
       "      <th>1</th>\n",
       "      <td>b</td>\n",
       "      <td>1805</td>\n",
       "      <td>202667</td>\n",
       "      <td>0.01</td>\n",
       "    </tr>\n",
       "  </tbody>\n",
       "</table>\n",
       "</div>"
      ],
      "text/plain": [
       "  testgroup  check  revenue    CR\n",
       "0         a   1928   202103  0.01\n",
       "1         b   1805   202667  0.01"
      ]
     },
     "execution_count": 40,
     "metadata": {},
     "output_type": "execute_result"
    }
   ],
   "source": [
    "#15. Расчет метрики CR\n",
    "data_CR['CR'] = round(data_CR['check'] / data_CR['revenue'], 2)\n",
    "data_CR"
   ]
  },
  {
   "cell_type": "markdown",
   "metadata": {},
   "source": [
    "Сравнивания полученные результаты, мы понимаем, что метрики ARPPU и ARPU были выше в группе \"b\", а конверсия получилось почти равной для наших групп. Далее мы должны проверить, насколько данные различия в метриках статистически значимы."
   ]
  },
  {
   "cell_type": "code",
   "execution_count": 41,
   "metadata": {},
   "outputs": [
    {
     "data": {
      "text/plain": [
       "MannwhitneyuResult(statistic=222015.0, pvalue=0.0)"
      ]
     },
     "execution_count": 41,
     "metadata": {},
     "output_type": "execute_result"
    }
   ],
   "source": [
    "#16. Сравниваем метрику ARPPU на стат. знамичость с помощю теста Манна-Уитни \n",
    "stats.mannwhitneyu(data_paying.query(\"testgroup == 'a'\")['revenue'],  \n",
    "             data_paying.query(\"testgroup == 'b'\")['revenue'], \n",
    "             use_continuity=True, \n",
    "             alternative='two-sided')"
   ]
  },
  {
   "cell_type": "code",
   "execution_count": 42,
   "metadata": {},
   "outputs": [
    {
     "data": {
      "text/plain": [
       "MannwhitneyuResult(statistic=20491259376.0, pvalue=0.06269701316074398)"
      ]
     },
     "execution_count": 42,
     "metadata": {},
     "output_type": "execute_result"
    }
   ],
   "source": [
    "#17. Сравниваем метрику ARPU на стат. знамичость с помощю теста Манна-Уитни\n",
    "stats.mannwhitneyu(data.query(\"testgroup == 'a'\")['revenue'],  \n",
    "             data.query(\"testgroup == 'b'\")['revenue'], \n",
    "             use_continuity=True, \n",
    "             alternative='two-sided')"
   ]
  },
  {
   "cell_type": "code",
   "execution_count": 43,
   "metadata": {},
   "outputs": [],
   "source": [
    "# Объявим функцию, которая позволит проверять гипотезы с помощью бутстрапа\n",
    "def get_bootstrap(\n",
    "    data_column_1, # числовые значения первой выборки\n",
    "    data_column_2, # числовые значения второй выборки\n",
    "    boot_it = 1000, # количество бутстрэп-подвыборок\n",
    "    statistic = np.mean, # интересующая нас статистика\n",
    "    bootstrap_conf_level = 0.95 # уровень значимости\n",
    "):\n",
    "    boot_len = max([len(data_column_1), len(data_column_2)])\n",
    "    boot_data = []\n",
    "    for i in tqdm(range(boot_it)): # извлекаем подвыборки\n",
    "        samples_1 = data_column_1.sample(\n",
    "            boot_len, \n",
    "            replace = True # параметр возвращения\n",
    "        ).values\n",
    "        \n",
    "        samples_2 = data_column_2.sample(\n",
    "            boot_len, \n",
    "            replace = True\n",
    "        ).values\n",
    "        \n",
    "        boot_data.append(statistic(samples_1-samples_2)) # mean() - применяем статистику\n",
    "        \n",
    "    pd_boot_data = pd.DataFrame(boot_data)\n",
    "        \n",
    "    left_quant = (1 - bootstrap_conf_level) / 2\n",
    "    right_quant = 1 - (1 - bootstrap_conf_level) / 2\n",
    "    ci = pd_boot_data.quantile([left_quant, right_quant])\n",
    "        \n",
    "    p_1 = norm.cdf(\n",
    "        x = 0, \n",
    "        loc = np.mean(boot_data), \n",
    "        scale = np.std(boot_data)\n",
    "    )\n",
    "    p_2 = norm.cdf(\n",
    "        x = 0, \n",
    "        loc = -np.mean(boot_data), \n",
    "        scale = np.std(boot_data)\n",
    "    )\n",
    "    p_value = min(p_1, p_2) * 2\n",
    "        \n",
    "    # Визуализация\n",
    "    plt.hist(pd_boot_data[0], bins = 50)\n",
    "    \n",
    "    plt.style.use('ggplot')\n",
    "    plt.vlines(ci,ymin=0,ymax=50,linestyle='--')\n",
    "    plt.xlabel('boot_data')\n",
    "    plt.ylabel('frequency')\n",
    "    plt.title(\"Histogram of boot_data\")\n",
    "    plt.show()\n",
    "       \n",
    "    return {\"boot_data\": boot_data, \n",
    "            \"ci\": ci, \n",
    "            \"p_value\": p_value}"
   ]
  },
  {
   "cell_type": "code",
   "execution_count": 44,
   "metadata": {},
   "outputs": [],
   "source": [
    "#18. Подготовка данных для бутстрапа\n",
    "paying_group_a = data_paying.query(\"testgroup == 'a'\")['revenue']\n",
    "paying_group_b = data_paying.query(\"testgroup == 'b'\")['revenue']"
   ]
  },
  {
   "cell_type": "code",
   "execution_count": 45,
   "metadata": {},
   "outputs": [
    {
     "data": {
      "application/vnd.jupyter.widget-view+json": {
       "model_id": "91fd4dc23d7b4f8ea65c6673ea7d3336",
       "version_major": 2,
       "version_minor": 0
      },
      "text/plain": [
       "HBox(children=(FloatProgress(value=0.0, max=1000.0), HTML(value='')))"
      ]
     },
     "metadata": {},
     "output_type": "display_data"
    },
    {
     "name": "stdout",
     "output_type": "stream",
     "text": [
      "\n"
     ]
    },
    {
     "data": {
      "image/png": "[encoded data removed]",
      "text/plain": [
       "<Figure size 1440x504 with 1 Axes>"
      ]
     },
     "metadata": {},
     "output_type": "display_data"
    }
   ],
   "source": [
    "#19. Применяем бутстрап для метрики ARPPU\n",
    "bootstrap_mean_paying = get_bootstrap(paying_group_a, paying_group_b)"
   ]
  },
  {
   "cell_type": "code",
   "execution_count": 46,
   "metadata": {},
   "outputs": [
    {
     "data": {
      "text/plain": [
       "0.08993942272163818"
      ]
     },
     "execution_count": 46,
     "metadata": {},
     "output_type": "execute_result"
    }
   ],
   "source": [
    "#20. Результат сравнения\n",
    "bootstrap_mean_paying[\"p_value\"]"
   ]
  },
  {
   "cell_type": "code",
   "execution_count": 47,
   "metadata": {},
   "outputs": [],
   "source": [
    "#21. Подготовка данных для бутстрапа\n",
    "group_a = data.query(\"testgroup == 'a'\")['revenue']\n",
    "group_b = data.query(\"testgroup == 'b'\")['revenue']"
   ]
  },
  {
   "cell_type": "code",
   "execution_count": 48,
   "metadata": {},
   "outputs": [
    {
     "data": {
      "application/vnd.jupyter.widget-view+json": {
       "model_id": "f161f12456fb44dc9633faf1da0ff1be",
       "version_major": 2,
       "version_minor": 0
      },
      "text/plain": [
       "HBox(children=(FloatProgress(value=0.0, max=1000.0), HTML(value='')))"
      ]
     },
     "metadata": {},
     "output_type": "display_data"
    },
    {
     "name": "stdout",
     "output_type": "stream",
     "text": [
      "\n"
     ]
    },
    {
     "data": {
      "image/png": "[encoded data removed]",
      "text/plain": [
       "<Figure size 1440x504 with 1 Axes>"
      ]
     },
     "metadata": {},
     "output_type": "display_data"
    }
   ],
   "source": [
    "#22. Применяем бутстрап для метрики ARPU\n",
    "bootstrap_mean = get_bootstrap(group_a, group_b)"
   ]
  },
  {
   "cell_type": "code",
   "execution_count": 49,
   "metadata": {},
   "outputs": [
    {
     "data": {
      "text/plain": [
       "0.5915351030766451"
      ]
     },
     "execution_count": 49,
     "metadata": {},
     "output_type": "execute_result"
    }
   ],
   "source": [
    "#23. Результат сравнения\n",
    "bootstrap_mean[\"p_value\"]"
   ]
  },
  {
   "cell_type": "markdown",
   "metadata": {},
   "source": [
    "Выводы."
   ]
  },
  {
   "cell_type": "markdown",
   "metadata": {},
   "source": [
    "Было проведено исследование двух групп (a и b), которым предлагались различные акционные варианты. Мы посчитали количество платящих пользователей (=покупателей) в каждой группе, посчитали объем дохода, который был получен из каждый группы. Кроме этого, были рассчитаны метрики ARPPU (=средний чек для наших данных), ARPU, CR. Если метрики ARRPU и ARPU были выше в группе b чем в группе а, то конверсия была почти равной в данных группах.\n",
    "\n",
    "Однако, как показывает тест Шапиро и как мы видим из полученный гистограммы, распределение данных о полученном доходе отклоняется от нормального. Как мы заметили, были значительные выбросы в группе а.\n",
    "\n",
    "Далее, необходимо было определить есть ли статистическая зависимость в метриках среди групп. Насколько полученные результаты \"оправдывают\" различия между группами. \n",
    "\n",
    "Для определения статистической значимости был проведен тест Манна-Уитни и был применен метод Бутстрап. \n",
    "Как показывают результаты, при сравнении метрики ARPU между группами оба подхода показывают отсутствие значемых различий (p-value > 0.05), и мы не можем отклонить нулевую гипотезу (H0 - различий между средними нет). А при сравнение метрики ARPPU между группами, мы получаем интересную картину: тест Манна-Уитни говорит, что различия есть ( p-value < 0.05), а бутсрап показывает что различия отсутствуют (p-value > 0.05). Это может быть обусловлено тем, что тест Манна-Уитни при сравнение средних значений ранжирует данные, и учитывая, что при расчете ARPPU берутся только покупки, то нули отбрасываются. Кроме того, на результаты бутстрапа мешают выбросы, которые имеются в данных."
   ]
  },
  {
   "cell_type": "markdown",
   "metadata": {},
   "source": [
    "Таким образом, учитывая, что конверсия у групп была почти равной и природу данных, сложно сказать какое из предложений лучше всего. Для принятия правильного решения следует провести дополнительный анализ при этом отрезая полученный выбросы в группах."
   ]
  },
  {
   "cell_type": "code",
   "execution_count": null,
   "metadata": {},
   "outputs": [],
   "source": []
  },
  {
   "cell_type": "markdown",
   "metadata": {},
   "source": [
    "ЗАДАЧА 3."
   ]
  },
  {
   "cell_type": "markdown",
   "metadata": {},
   "source": [
    "В игре Plants & Gardens каждый месяц проводятся тематические события, ограниченные по времени. В них игроки могут получить уникальные предметы для сада и персонажей, дополнительные монеты или бонусы. Для получения награды требуется пройти ряд уровней за определенное время. С помощью каких метрик можно оценить результаты последнего прошедшего события?\n",
    "\n",
    "Предположим, в другом событии мы усложнили механику событий так, что при каждой неудачной попытке выполнения уровня игрок будет откатываться на несколько уровней назад. Изменится ли набор метрик оценки результата? Если да, то как?"
   ]
  },
  {
   "cell_type": "markdown",
   "metadata": {},
   "source": [
    "Насколько я понимаю данные события больше всего направлены для игроков, которые уже являются юзерами данной игры. И суть данных мероприятий в том, чтобы повышать активность юзеров данного приложения, а привлечение аудитории может быть второстепенной целю. Для оценки результатов последнего прошедшего события можно было бы применять следующие метрики:\n",
    "\n",
    "    1. AU (active users) - количество уникальных пользователей, у которых был хотя бы 1 заход во время проведения таких событий.\n",
    "    2. DAU - количетсов уникальных пользователей, у которых был хотя бы 1 заход в игру в течении дня (если события проводятся несколько дней).\n",
    "    3. Max_Session_Lenght - максимальная непрерывная продолжительность сессии для уникальных пользователей во время проведения событий.\n",
    "    4. Retention_rate (7, 30 days) - уровень удержания новых пользователей, которые подключились в игру в момент проведения событий.\n",
    "    5. Churn_rate (30 days) - количество игроков, которые не были активны в последующие 30 дней после проведения мероприятия.\n",
    "    \n",
    "При усложнении механики событий, также можно применять данные метрики. Особенно в таком наборе метрик, лоялность и заинтересованность игроков можно было бы оценить через комбинацию метрик \"max_session_length\" + \"churn_rate\", так как данная комбинация хорошо сигнализирует ситуацию, когда при усложненной механике игроки покидают игру и не возвращаются."
   ]
  },
  {
   "cell_type": "code",
   "execution_count": null,
   "metadata": {},
   "outputs": [],
   "source": []
  }
 ],
 "metadata": {
  "kernelspec": {
   "display_name": "Python 3",
   "language": "python",
   "name": "python3"
  },
  "language_info": {
   "codemirror_mode": {
    "name": "ipython",
    "version": 3
   },
   "file_extension": ".py",
   "mimetype": "text/x-python",
   "name": "python",
   "nbconvert_exporter": "python",
   "pygments_lexer": "ipython3",
   "version": "3.7.3"
  }
 },
 "nbformat": 4,
 "nbformat_minor": 4
}
